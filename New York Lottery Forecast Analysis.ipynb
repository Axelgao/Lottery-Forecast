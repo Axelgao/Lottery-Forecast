{
 "cells": [
  {
   "cell_type": "markdown",
   "metadata": {
    "collapsed": true
   },
   "source": [
    "# New York Lottery Forecast Analysis"
   ]
  },
  {
   "cell_type": "markdown",
   "metadata": {},
   "source": [
    "#### Some people told me:\" If you trust a stock market analyst, that even worse than trusting a monkey -- maybe the luck of monkey is much better than that of the stock analysts'!\" That's why a lot of people would like to spend lots of money on lottery. In this project l will analysis the lottery. New York Lottery \"Take 5\" lottery is very famous all over the world. This publisher doesn't allow the content to be displayed in a frame either, so please find it in http://nylottery.ny.gov/wps/portal/Home/Lottery/Home/Daily+Games/TAKE+5"
   ]
  },
  {
   "cell_type": "markdown",
   "metadata": {},
   "source": [
    "#### Everyone buys \"Take 5\" for winning the First Prize Level, so I can focus on coculating it. Usually we coculate the boring chances of winning like \"5/39 * 4/38 * 3/37 * 2/36 * 1/35 = 1/575757\". Do you believe that every lottery machine has its own regularity? I know a lot of people agree that. No problem, I can use Python to forecast the better number choice for the people if there is really some regulaerity in the machine or program. "
   ]
  },
  {
   "cell_type": "markdown",
   "metadata": {},
   "source": [
    "## 1. Data Acquisition"
   ]
  },
  {
   "cell_type": "markdown",
   "metadata": {},
   "source": [
    "### Software Environment"
   ]
  },
  {
   "cell_type": "code",
   "execution_count": 1,
   "metadata": {
    "collapsed": false
   },
   "outputs": [],
   "source": [
    "import requests \n",
    "from bs4 import BeautifulSoup\n",
    "import numpy as np\n",
    "import pandas as pd\n",
    "import seaborn as sns\n",
    "sns.set(style=\"ticks\")\n",
    "from pylab import rcParams\n",
    "import matplotlib.pyplot as plt\n",
    "import matplotlib\n",
    "import matplotlib as mpl\n",
    "import mpld3\n",
    "from sklearn import preprocessing"
   ]
  },
  {
   "cell_type": "code",
   "execution_count": 2,
   "metadata": {
    "collapsed": true
   },
   "outputs": [],
   "source": [
    "%matplotlib inline"
   ]
  },
  {
   "cell_type": "code",
   "execution_count": 3,
   "metadata": {
    "collapsed": true
   },
   "outputs": [],
   "source": [
    "rcParams['figure.dpi'] = 500\n",
    "rcParams['lines.linewidth'] = 2\n",
    "rcParams['axes.facecolor'] = 'white'\n",
    "rcParams['patch.edgecolor'] = 'white'\n",
    "rcParams['font.family'] = 'StixGeneral'\n",
    "rcParams['figure.figsize'] = 10,8\n",
    "rcParams['font.size'] = 20\n",
    "rcParams['axes.labelsize'] = 'large'\n",
    "rcParams['xtick.labelsize'] = 15\n",
    "rcParams['ytick.labelsize'] = 15"
   ]
  },
  {
   "cell_type": "code",
   "execution_count": 4,
   "metadata": {
    "collapsed": true
   },
   "outputs": [],
   "source": [
    "import json\n",
    "from time import sleep\n",
    "from datetime import datetime\n",
    "massey_proxies = {\n",
    "  \"http\": \"http://alb-cache1.massey.ac.nz/\",\n",
    " \"https\": \"http://alb-cache1.massey.ac.nz/\",\n",
    "}"
   ]
  },
  {
   "cell_type": "code",
   "execution_count": 5,
   "metadata": {
    "collapsed": true
   },
   "outputs": [],
   "source": [
    "import unirest"
   ]
  },
  {
   "cell_type": "markdown",
   "metadata": {},
   "source": [
    "#### Get the newest winning numbers by Web API. The server looks not very stabilized."
   ]
  },
  {
   "cell_type": "code",
   "execution_count": 6,
   "metadata": {
    "collapsed": false
   },
   "outputs": [],
   "source": [
    "response_NewYorkLottery = unirest.get(\"https://ychen11-test2.p.mashape.com/query?category=take5&param1=40\",\n",
    "  headers={\n",
    "    \"X-Mashape-Key\": \"NIJbaoeUbhmsh3ii9l0mzDeDaa5Xp1p7zv8jsnuhkXaRNPn8wA\",\n",
    "    \"Accept\": \"application/json\"\n",
    "  }\n",
    ")"
   ]
  },
  {
   "cell_type": "code",
   "execution_count": 7,
   "metadata": {
    "collapsed": false
   },
   "outputs": [
    {
     "data": {
      "text/plain": [
       "{u'category': u'take 5',\n",
       " u'result': [[6, 5, 8, 3, 24],\n",
       "  [2, 19, 30, 8, 5],\n",
       "  [4, 26, 13, 18, 32],\n",
       "  [22, 2, 5, 25, 20],\n",
       "  [27, 15, 10, 23, 13],\n",
       "  [16, 5, 22, 39, 19],\n",
       "  [37, 18, 14, 34, 7],\n",
       "  [29, 35, 39, 23, 8],\n",
       "  [24, 9, 4, 14, 13],\n",
       "  [33, 10, 8, 18, 34],\n",
       "  [32, 13, 37, 7, 25],\n",
       "  [27, 20, 11, 33, 14],\n",
       "  [22, 32, 30, 21, 5],\n",
       "  [39, 23, 32, 8, 13],\n",
       "  [2, 4, 35, 25, 16],\n",
       "  [37, 36, 23, 28, 34],\n",
       "  [19, 25, 15, 3, 11],\n",
       "  [6, 30, 34, 1, 16],\n",
       "  [27, 20, 31, 33, 26],\n",
       "  [24, 27, 1, 35, 7],\n",
       "  [5, 22, 39, 17, 32],\n",
       "  [3, 23, 35, 21, 28],\n",
       "  [31, 27, 12, 3, 36],\n",
       "  [4, 14, 30, 28, 10],\n",
       "  [38, 9, 15, 21, 23],\n",
       "  [27, 8, 36, 32, 21],\n",
       "  [13, 2, 28, 17, 39],\n",
       "  [1, 15, 33, 31, 3],\n",
       "  [12, 18, 4, 36, 27],\n",
       "  [16, 26, 19, 34, 37],\n",
       "  [36, 7, 32, 19, 25],\n",
       "  [1, 8, 28, 29, 32],\n",
       "  [10, 1, 38, 12, 35],\n",
       "  [24, 36, 15, 16, 21],\n",
       "  [9, 33, 26, 39, 14],\n",
       "  [25, 11, 15, 30, 12],\n",
       "  [19, 33, 2, 17, 8],\n",
       "  [10, 27, 36, 2, 34],\n",
       "  [29, 24, 5, 20, 23],\n",
       "  [7, 16, 12, 11, 29]],\n",
       " u'status': u'full'}"
      ]
     },
     "execution_count": 7,
     "metadata": {},
     "output_type": "execute_result"
    }
   ],
   "source": [
    "response_NewYorkLottery.body"
   ]
  },
  {
   "cell_type": "markdown",
   "metadata": {},
   "source": [
    "## 2. Data Wrangling"
   ]
  },
  {
   "cell_type": "markdown",
   "metadata": {},
   "source": [
    "#### Now I need to clean the data. First check the type of the data:"
   ]
  },
  {
   "cell_type": "code",
   "execution_count": 8,
   "metadata": {
    "collapsed": false
   },
   "outputs": [
    {
     "data": {
      "text/plain": [
       "dict"
      ]
     },
     "execution_count": 8,
     "metadata": {},
     "output_type": "execute_result"
    }
   ],
   "source": [
    "type(response_NewYorkLottery.body)"
   ]
  },
  {
   "cell_type": "markdown",
   "metadata": {
    "collapsed": true
   },
   "source": [
    "#### It's a dictionary, so I can use Pandas to create a data frame directly. "
   ]
  },
  {
   "cell_type": "code",
   "execution_count": 9,
   "metadata": {
    "collapsed": false
   },
   "outputs": [
    {
     "data": {
      "text/html": [
       "<div>\n",
       "<table border=\"1\" class=\"dataframe\">\n",
       "  <thead>\n",
       "    <tr style=\"text-align: right;\">\n",
       "      <th></th>\n",
       "      <th>0</th>\n",
       "      <th>1</th>\n",
       "      <th>2</th>\n",
       "      <th>3</th>\n",
       "      <th>4</th>\n",
       "      <th>5</th>\n",
       "      <th>6</th>\n",
       "      <th>7</th>\n",
       "      <th>8</th>\n",
       "      <th>9</th>\n",
       "      <th>...</th>\n",
       "      <th>30</th>\n",
       "      <th>31</th>\n",
       "      <th>32</th>\n",
       "      <th>33</th>\n",
       "      <th>34</th>\n",
       "      <th>35</th>\n",
       "      <th>36</th>\n",
       "      <th>37</th>\n",
       "      <th>38</th>\n",
       "      <th>39</th>\n",
       "    </tr>\n",
       "  </thead>\n",
       "  <tbody>\n",
       "    <tr>\n",
       "      <th>0</th>\n",
       "      <td>6</td>\n",
       "      <td>2</td>\n",
       "      <td>4</td>\n",
       "      <td>22</td>\n",
       "      <td>27</td>\n",
       "      <td>16</td>\n",
       "      <td>37</td>\n",
       "      <td>29</td>\n",
       "      <td>24</td>\n",
       "      <td>33</td>\n",
       "      <td>...</td>\n",
       "      <td>36</td>\n",
       "      <td>1</td>\n",
       "      <td>10</td>\n",
       "      <td>24</td>\n",
       "      <td>9</td>\n",
       "      <td>25</td>\n",
       "      <td>19</td>\n",
       "      <td>10</td>\n",
       "      <td>29</td>\n",
       "      <td>7</td>\n",
       "    </tr>\n",
       "    <tr>\n",
       "      <th>1</th>\n",
       "      <td>5</td>\n",
       "      <td>19</td>\n",
       "      <td>26</td>\n",
       "      <td>2</td>\n",
       "      <td>15</td>\n",
       "      <td>5</td>\n",
       "      <td>18</td>\n",
       "      <td>35</td>\n",
       "      <td>9</td>\n",
       "      <td>10</td>\n",
       "      <td>...</td>\n",
       "      <td>7</td>\n",
       "      <td>8</td>\n",
       "      <td>1</td>\n",
       "      <td>36</td>\n",
       "      <td>33</td>\n",
       "      <td>11</td>\n",
       "      <td>33</td>\n",
       "      <td>27</td>\n",
       "      <td>24</td>\n",
       "      <td>16</td>\n",
       "    </tr>\n",
       "    <tr>\n",
       "      <th>2</th>\n",
       "      <td>8</td>\n",
       "      <td>30</td>\n",
       "      <td>13</td>\n",
       "      <td>5</td>\n",
       "      <td>10</td>\n",
       "      <td>22</td>\n",
       "      <td>14</td>\n",
       "      <td>39</td>\n",
       "      <td>4</td>\n",
       "      <td>8</td>\n",
       "      <td>...</td>\n",
       "      <td>32</td>\n",
       "      <td>28</td>\n",
       "      <td>38</td>\n",
       "      <td>15</td>\n",
       "      <td>26</td>\n",
       "      <td>15</td>\n",
       "      <td>2</td>\n",
       "      <td>36</td>\n",
       "      <td>5</td>\n",
       "      <td>12</td>\n",
       "    </tr>\n",
       "    <tr>\n",
       "      <th>3</th>\n",
       "      <td>3</td>\n",
       "      <td>8</td>\n",
       "      <td>18</td>\n",
       "      <td>25</td>\n",
       "      <td>23</td>\n",
       "      <td>39</td>\n",
       "      <td>34</td>\n",
       "      <td>23</td>\n",
       "      <td>14</td>\n",
       "      <td>18</td>\n",
       "      <td>...</td>\n",
       "      <td>19</td>\n",
       "      <td>29</td>\n",
       "      <td>12</td>\n",
       "      <td>16</td>\n",
       "      <td>39</td>\n",
       "      <td>30</td>\n",
       "      <td>17</td>\n",
       "      <td>2</td>\n",
       "      <td>20</td>\n",
       "      <td>11</td>\n",
       "    </tr>\n",
       "    <tr>\n",
       "      <th>4</th>\n",
       "      <td>24</td>\n",
       "      <td>5</td>\n",
       "      <td>32</td>\n",
       "      <td>20</td>\n",
       "      <td>13</td>\n",
       "      <td>19</td>\n",
       "      <td>7</td>\n",
       "      <td>8</td>\n",
       "      <td>13</td>\n",
       "      <td>34</td>\n",
       "      <td>...</td>\n",
       "      <td>25</td>\n",
       "      <td>32</td>\n",
       "      <td>35</td>\n",
       "      <td>21</td>\n",
       "      <td>14</td>\n",
       "      <td>12</td>\n",
       "      <td>8</td>\n",
       "      <td>34</td>\n",
       "      <td>23</td>\n",
       "      <td>29</td>\n",
       "    </tr>\n",
       "  </tbody>\n",
       "</table>\n",
       "<p>5 rows × 40 columns</p>\n",
       "</div>"
      ],
      "text/plain": [
       "   0   1   2   3   4   5   6   7   8   9  ...  30  31  32  33  34  35  36  37  \\\n",
       "0   6   2   4  22  27  16  37  29  24  33 ...  36   1  10  24   9  25  19  10   \n",
       "1   5  19  26   2  15   5  18  35   9  10 ...   7   8   1  36  33  11  33  27   \n",
       "2   8  30  13   5  10  22  14  39   4   8 ...  32  28  38  15  26  15   2  36   \n",
       "3   3   8  18  25  23  39  34  23  14  18 ...  19  29  12  16  39  30  17   2   \n",
       "4  24   5  32  20  13  19   7   8  13  34 ...  25  32  35  21  14  12   8  34   \n",
       "\n",
       "   38  39  \n",
       "0  29   7  \n",
       "1  24  16  \n",
       "2   5  12  \n",
       "3  20  11  \n",
       "4  23  29  \n",
       "\n",
       "[5 rows x 40 columns]"
      ]
     },
     "execution_count": 9,
     "metadata": {},
     "output_type": "execute_result"
    }
   ],
   "source": [
    "result = response_NewYorkLottery.body\n",
    "data_NewYorkLottery = pd.DataFrame(result['result'])\n",
    "data_NewYorkLottery.T"
   ]
  },
  {
   "cell_type": "markdown",
   "metadata": {},
   "source": [
    "#### To make it look logically, I change the names of the columns:"
   ]
  },
  {
   "cell_type": "code",
   "execution_count": 10,
   "metadata": {
    "collapsed": false
   },
   "outputs": [
    {
     "name": "stderr",
     "output_type": "stream",
     "text": [
      "D:\\WinPython-64bit-2.7.10.3\\python-2.7.10.amd64\\lib\\site-packages\\pandas\\core\\indexing.py:115: SettingWithCopyWarning: \n",
      "A value is trying to be set on a copy of a slice from a DataFrame\n",
      "\n",
      "See the caveats in the documentation: http://pandas.pydata.org/pandas-docs/stable/indexing.html#indexing-view-versus-copy\n",
      "  self._setitem_with_indexer(indexer, value)\n"
     ]
    }
   ],
   "source": [
    "data_NewYorkLottery['FirstBall']=''\n",
    "data_NewYorkLottery['SecondBall']=''\n",
    "data_NewYorkLottery['ThirdBall']=''\n",
    "data_NewYorkLottery['FourthBall']=''\n",
    "data_NewYorkLottery['FifthBall']=''\n",
    "data_NewYorkLottery.FirstBall.ix[:] = data_NewYorkLottery.ix[:,0]\n",
    "data_NewYorkLottery.SecondBall.ix[:] = data_NewYorkLottery.ix[:,1]\n",
    "data_NewYorkLottery.ThirdBall.ix[:] = data_NewYorkLottery.ix[:,2]\n",
    "data_NewYorkLottery.FourthBall.ix[:] = data_NewYorkLottery.ix[:,3]\n",
    "data_NewYorkLottery.FifthBall.ix[:] = data_NewYorkLottery.ix[:,4]\n",
    "del data_NewYorkLottery[0]\n",
    "del data_NewYorkLottery[1]\n",
    "del data_NewYorkLottery[2]\n",
    "del data_NewYorkLottery[3]\n",
    "del data_NewYorkLottery[4]"
   ]
  },
  {
   "cell_type": "code",
   "execution_count": 11,
   "metadata": {
    "collapsed": false
   },
   "outputs": [
    {
     "data": {
      "text/html": [
       "<div>\n",
       "<table border=\"1\" class=\"dataframe\">\n",
       "  <thead>\n",
       "    <tr style=\"text-align: right;\">\n",
       "      <th></th>\n",
       "      <th>0</th>\n",
       "      <th>1</th>\n",
       "      <th>2</th>\n",
       "      <th>3</th>\n",
       "      <th>4</th>\n",
       "      <th>5</th>\n",
       "      <th>6</th>\n",
       "      <th>7</th>\n",
       "      <th>8</th>\n",
       "      <th>9</th>\n",
       "      <th>...</th>\n",
       "      <th>30</th>\n",
       "      <th>31</th>\n",
       "      <th>32</th>\n",
       "      <th>33</th>\n",
       "      <th>34</th>\n",
       "      <th>35</th>\n",
       "      <th>36</th>\n",
       "      <th>37</th>\n",
       "      <th>38</th>\n",
       "      <th>39</th>\n",
       "    </tr>\n",
       "  </thead>\n",
       "  <tbody>\n",
       "    <tr>\n",
       "      <th>FirstBall</th>\n",
       "      <td>6</td>\n",
       "      <td>2</td>\n",
       "      <td>4</td>\n",
       "      <td>22</td>\n",
       "      <td>27</td>\n",
       "      <td>16</td>\n",
       "      <td>37</td>\n",
       "      <td>29</td>\n",
       "      <td>24</td>\n",
       "      <td>33</td>\n",
       "      <td>...</td>\n",
       "      <td>36</td>\n",
       "      <td>1</td>\n",
       "      <td>10</td>\n",
       "      <td>24</td>\n",
       "      <td>9</td>\n",
       "      <td>25</td>\n",
       "      <td>19</td>\n",
       "      <td>10</td>\n",
       "      <td>29</td>\n",
       "      <td>7</td>\n",
       "    </tr>\n",
       "    <tr>\n",
       "      <th>SecondBall</th>\n",
       "      <td>5</td>\n",
       "      <td>19</td>\n",
       "      <td>26</td>\n",
       "      <td>2</td>\n",
       "      <td>15</td>\n",
       "      <td>5</td>\n",
       "      <td>18</td>\n",
       "      <td>35</td>\n",
       "      <td>9</td>\n",
       "      <td>10</td>\n",
       "      <td>...</td>\n",
       "      <td>7</td>\n",
       "      <td>8</td>\n",
       "      <td>1</td>\n",
       "      <td>36</td>\n",
       "      <td>33</td>\n",
       "      <td>11</td>\n",
       "      <td>33</td>\n",
       "      <td>27</td>\n",
       "      <td>24</td>\n",
       "      <td>16</td>\n",
       "    </tr>\n",
       "    <tr>\n",
       "      <th>ThirdBall</th>\n",
       "      <td>8</td>\n",
       "      <td>30</td>\n",
       "      <td>13</td>\n",
       "      <td>5</td>\n",
       "      <td>10</td>\n",
       "      <td>22</td>\n",
       "      <td>14</td>\n",
       "      <td>39</td>\n",
       "      <td>4</td>\n",
       "      <td>8</td>\n",
       "      <td>...</td>\n",
       "      <td>32</td>\n",
       "      <td>28</td>\n",
       "      <td>38</td>\n",
       "      <td>15</td>\n",
       "      <td>26</td>\n",
       "      <td>15</td>\n",
       "      <td>2</td>\n",
       "      <td>36</td>\n",
       "      <td>5</td>\n",
       "      <td>12</td>\n",
       "    </tr>\n",
       "    <tr>\n",
       "      <th>FourthBall</th>\n",
       "      <td>3</td>\n",
       "      <td>8</td>\n",
       "      <td>18</td>\n",
       "      <td>25</td>\n",
       "      <td>23</td>\n",
       "      <td>39</td>\n",
       "      <td>34</td>\n",
       "      <td>23</td>\n",
       "      <td>14</td>\n",
       "      <td>18</td>\n",
       "      <td>...</td>\n",
       "      <td>19</td>\n",
       "      <td>29</td>\n",
       "      <td>12</td>\n",
       "      <td>16</td>\n",
       "      <td>39</td>\n",
       "      <td>30</td>\n",
       "      <td>17</td>\n",
       "      <td>2</td>\n",
       "      <td>20</td>\n",
       "      <td>11</td>\n",
       "    </tr>\n",
       "    <tr>\n",
       "      <th>FifthBall</th>\n",
       "      <td>24</td>\n",
       "      <td>5</td>\n",
       "      <td>32</td>\n",
       "      <td>20</td>\n",
       "      <td>13</td>\n",
       "      <td>19</td>\n",
       "      <td>7</td>\n",
       "      <td>8</td>\n",
       "      <td>13</td>\n",
       "      <td>34</td>\n",
       "      <td>...</td>\n",
       "      <td>25</td>\n",
       "      <td>32</td>\n",
       "      <td>35</td>\n",
       "      <td>21</td>\n",
       "      <td>14</td>\n",
       "      <td>12</td>\n",
       "      <td>8</td>\n",
       "      <td>34</td>\n",
       "      <td>23</td>\n",
       "      <td>29</td>\n",
       "    </tr>\n",
       "  </tbody>\n",
       "</table>\n",
       "<p>5 rows × 40 columns</p>\n",
       "</div>"
      ],
      "text/plain": [
       "            0   1   2   3   4   5   6   7   8   9  ...  30  31  32  33  34  \\\n",
       "FirstBall    6   2   4  22  27  16  37  29  24  33 ...  36   1  10  24   9   \n",
       "SecondBall   5  19  26   2  15   5  18  35   9  10 ...   7   8   1  36  33   \n",
       "ThirdBall    8  30  13   5  10  22  14  39   4   8 ...  32  28  38  15  26   \n",
       "FourthBall   3   8  18  25  23  39  34  23  14  18 ...  19  29  12  16  39   \n",
       "FifthBall   24   5  32  20  13  19   7   8  13  34 ...  25  32  35  21  14   \n",
       "\n",
       "            35  36  37  38  39  \n",
       "FirstBall   25  19  10  29   7  \n",
       "SecondBall  11  33  27  24  16  \n",
       "ThirdBall   15   2  36   5  12  \n",
       "FourthBall  30  17   2  20  11  \n",
       "FifthBall   12   8  34  23  29  \n",
       "\n",
       "[5 rows x 40 columns]"
      ]
     },
     "execution_count": 11,
     "metadata": {},
     "output_type": "execute_result"
    }
   ],
   "source": [
    "data_NewYorkLottery.T"
   ]
  },
  {
   "cell_type": "markdown",
   "metadata": {
    "collapsed": false
   },
   "source": [
    "#### Now the latest 40 groups of winning numbers are clear, and I can get the winning numbers' frequency. For example, which number won the first place most times?"
   ]
  },
  {
   "cell_type": "code",
   "execution_count": 12,
   "metadata": {
    "collapsed": false
   },
   "outputs": [
    {
     "data": {
      "text/plain": [
       "<matplotlib.axes._subplots.AxesSubplot at 0x1c9f3b38>"
      ]
     },
     "execution_count": 12,
     "metadata": {},
     "output_type": "execute_result"
    },
    {
     "data": {
      "image/png": "[encoded data removed]",
      "text/plain": [
       "<matplotlib.figure.Figure at 0x1c8f8b38>"
      ]
     },
     "metadata": {},
     "output_type": "display_data"
    }
   ],
   "source": [
    "data_NewYorkLottery.FirstBall.hist(bins=39, normed=True, alpha=0.4, color='grey')\n",
    "data_NewYorkLottery.FirstBall.plot(kind='kde', title='FirstBall', label='KDE pandas')\n",
    "sns.kdeplot(data_NewYorkLottery.FirstBall, bw=1, color='black', lw=1.0, label='KDE seaborn')"
   ]
  },
  {
   "cell_type": "markdown",
   "metadata": {
    "collapsed": true
   },
   "source": [
    "#### In order to make it clearly, I need to sum up the contributions from all bins in that region by CDF. The eye is much better at judging distances than areas, so I can find the most frequent winning numbers are bigger numbers or smaller numbers by the line's  trend:"
   ]
  },
  {
   "cell_type": "code",
   "execution_count": 13,
   "metadata": {
    "collapsed": false
   },
   "outputs": [
    {
     "data": {
      "text/plain": [
       "<matplotlib.axes._subplots.AxesSubplot at 0x1ccbfeb8>"
      ]
     },
     "execution_count": 13,
     "metadata": {},
     "output_type": "execute_result"
    },
    {
     "data": {
      "image/png": "[encoded data removed]",
      "text/plain": [
       "<matplotlib.figure.Figure at 0x1c9fe5c0>"
      ]
     },
     "metadata": {},
     "output_type": "display_data"
    }
   ],
   "source": [
    "sns.kdeplot(data_NewYorkLottery.FirstBall, cumulative=True, label='CDF')"
   ]
  },
  {
   "cell_type": "markdown",
   "metadata": {
    "collapsed": true
   },
   "source": [
    "#### In the same way I can get the winning number frequency in the other four places. Because the data comes from up-to-date sources, the result you see now is different from the result I saw. But the winning number frequency is always the newest and dynamic!"
   ]
  },
  {
   "cell_type": "markdown",
   "metadata": {
    "collapsed": true
   },
   "source": [
    "## 3. Data Integration"
   ]
  },
  {
   "cell_type": "markdown",
   "metadata": {},
   "source": [
    "#### People also need to know which number is most popular in all these five places in the recent time, because maybe they don't want to waste time to think which number is better."
   ]
  },
  {
   "cell_type": "code",
   "execution_count": 14,
   "metadata": {
    "collapsed": false
   },
   "outputs": [
    {
     "data": {
      "text/html": [
       "<div>\n",
       "<table border=\"1\" class=\"dataframe\">\n",
       "  <thead>\n",
       "    <tr style=\"text-align: right;\">\n",
       "      <th></th>\n",
       "      <th>0</th>\n",
       "      <th>1</th>\n",
       "      <th>2</th>\n",
       "      <th>3</th>\n",
       "      <th>4</th>\n",
       "      <th>5</th>\n",
       "      <th>6</th>\n",
       "      <th>7</th>\n",
       "      <th>8</th>\n",
       "      <th>9</th>\n",
       "      <th>...</th>\n",
       "      <th>30</th>\n",
       "      <th>31</th>\n",
       "      <th>32</th>\n",
       "      <th>33</th>\n",
       "      <th>34</th>\n",
       "      <th>35</th>\n",
       "      <th>36</th>\n",
       "      <th>37</th>\n",
       "      <th>38</th>\n",
       "      <th>39</th>\n",
       "    </tr>\n",
       "  </thead>\n",
       "  <tbody>\n",
       "    <tr>\n",
       "      <th>FirstBall</th>\n",
       "      <td>6</td>\n",
       "      <td>2</td>\n",
       "      <td>4</td>\n",
       "      <td>22</td>\n",
       "      <td>27</td>\n",
       "      <td>16</td>\n",
       "      <td>37</td>\n",
       "      <td>29</td>\n",
       "      <td>24</td>\n",
       "      <td>33</td>\n",
       "      <td>...</td>\n",
       "      <td>36</td>\n",
       "      <td>1</td>\n",
       "      <td>10</td>\n",
       "      <td>24</td>\n",
       "      <td>9</td>\n",
       "      <td>25</td>\n",
       "      <td>19</td>\n",
       "      <td>10</td>\n",
       "      <td>29</td>\n",
       "      <td>7</td>\n",
       "    </tr>\n",
       "    <tr>\n",
       "      <th>SecondBall</th>\n",
       "      <td>5</td>\n",
       "      <td>19</td>\n",
       "      <td>26</td>\n",
       "      <td>2</td>\n",
       "      <td>15</td>\n",
       "      <td>5</td>\n",
       "      <td>18</td>\n",
       "      <td>35</td>\n",
       "      <td>9</td>\n",
       "      <td>10</td>\n",
       "      <td>...</td>\n",
       "      <td>7</td>\n",
       "      <td>8</td>\n",
       "      <td>1</td>\n",
       "      <td>36</td>\n",
       "      <td>33</td>\n",
       "      <td>11</td>\n",
       "      <td>33</td>\n",
       "      <td>27</td>\n",
       "      <td>24</td>\n",
       "      <td>16</td>\n",
       "    </tr>\n",
       "    <tr>\n",
       "      <th>ThirdBall</th>\n",
       "      <td>8</td>\n",
       "      <td>30</td>\n",
       "      <td>13</td>\n",
       "      <td>5</td>\n",
       "      <td>10</td>\n",
       "      <td>22</td>\n",
       "      <td>14</td>\n",
       "      <td>39</td>\n",
       "      <td>4</td>\n",
       "      <td>8</td>\n",
       "      <td>...</td>\n",
       "      <td>32</td>\n",
       "      <td>28</td>\n",
       "      <td>38</td>\n",
       "      <td>15</td>\n",
       "      <td>26</td>\n",
       "      <td>15</td>\n",
       "      <td>2</td>\n",
       "      <td>36</td>\n",
       "      <td>5</td>\n",
       "      <td>12</td>\n",
       "    </tr>\n",
       "    <tr>\n",
       "      <th>FourthBall</th>\n",
       "      <td>3</td>\n",
       "      <td>8</td>\n",
       "      <td>18</td>\n",
       "      <td>25</td>\n",
       "      <td>23</td>\n",
       "      <td>39</td>\n",
       "      <td>34</td>\n",
       "      <td>23</td>\n",
       "      <td>14</td>\n",
       "      <td>18</td>\n",
       "      <td>...</td>\n",
       "      <td>19</td>\n",
       "      <td>29</td>\n",
       "      <td>12</td>\n",
       "      <td>16</td>\n",
       "      <td>39</td>\n",
       "      <td>30</td>\n",
       "      <td>17</td>\n",
       "      <td>2</td>\n",
       "      <td>20</td>\n",
       "      <td>11</td>\n",
       "    </tr>\n",
       "    <tr>\n",
       "      <th>FifthBall</th>\n",
       "      <td>24</td>\n",
       "      <td>5</td>\n",
       "      <td>32</td>\n",
       "      <td>20</td>\n",
       "      <td>13</td>\n",
       "      <td>19</td>\n",
       "      <td>7</td>\n",
       "      <td>8</td>\n",
       "      <td>13</td>\n",
       "      <td>34</td>\n",
       "      <td>...</td>\n",
       "      <td>25</td>\n",
       "      <td>32</td>\n",
       "      <td>35</td>\n",
       "      <td>21</td>\n",
       "      <td>14</td>\n",
       "      <td>12</td>\n",
       "      <td>8</td>\n",
       "      <td>34</td>\n",
       "      <td>23</td>\n",
       "      <td>29</td>\n",
       "    </tr>\n",
       "  </tbody>\n",
       "</table>\n",
       "<p>5 rows × 40 columns</p>\n",
       "</div>"
      ],
      "text/plain": [
       "            0   1   2   3   4   5   6   7   8   9  ...  30  31  32  33  34  \\\n",
       "FirstBall    6   2   4  22  27  16  37  29  24  33 ...  36   1  10  24   9   \n",
       "SecondBall   5  19  26   2  15   5  18  35   9  10 ...   7   8   1  36  33   \n",
       "ThirdBall    8  30  13   5  10  22  14  39   4   8 ...  32  28  38  15  26   \n",
       "FourthBall   3   8  18  25  23  39  34  23  14  18 ...  19  29  12  16  39   \n",
       "FifthBall   24   5  32  20  13  19   7   8  13  34 ...  25  32  35  21  14   \n",
       "\n",
       "            35  36  37  38  39  \n",
       "FirstBall   25  19  10  29   7  \n",
       "SecondBall  11  33  27  24  16  \n",
       "ThirdBall   15   2  36   5  12  \n",
       "FourthBall  30  17   2  20  11  \n",
       "FifthBall   12   8  34  23  29  \n",
       "\n",
       "[5 rows x 40 columns]"
      ]
     },
     "execution_count": 14,
     "metadata": {},
     "output_type": "execute_result"
    }
   ],
   "source": [
    "data_NewYorkLottery.T"
   ]
  },
  {
   "cell_type": "markdown",
   "metadata": {},
   "source": [
    "#### Use Concatenation to make a new winning number data set:"
   ]
  },
  {
   "cell_type": "code",
   "execution_count": 15,
   "metadata": {
    "collapsed": false
   },
   "outputs": [
    {
     "data": {
      "text/plain": [
       "0     6\n",
       "1     2\n",
       "2     4\n",
       "3    22\n",
       "4    27\n",
       "dtype: int64"
      ]
     },
     "execution_count": 15,
     "metadata": {},
     "output_type": "execute_result"
    }
   ],
   "source": [
    "data_FirstBall = data_NewYorkLottery.FirstBall\n",
    "data_SecondBall = data_NewYorkLottery.SecondBall\n",
    "data_ThirdBall = data_NewYorkLottery.ThirdBall\n",
    "data_FourthBall = data_NewYorkLottery.FourthBall\n",
    "data_FifthBall = data_NewYorkLottery.FifthBall\n",
    "data_WinningBalls = pd.concat([data_FirstBall, data_SecondBall, data_ThirdBall, data_FourthBall, data_FifthBall], ignore_index=True)\n",
    "data_WinningBalls.head()"
   ]
  },
  {
   "cell_type": "markdown",
   "metadata": {},
   "source": [
    "#### Use KDE to tell the people that which winning numbers are popular now:"
   ]
  },
  {
   "cell_type": "code",
   "execution_count": 16,
   "metadata": {
    "collapsed": false
   },
   "outputs": [
    {
     "data": {
      "text/plain": [
       "<matplotlib.axes._subplots.AxesSubplot at 0x1c9fea58>"
      ]
     },
     "execution_count": 16,
     "metadata": {},
     "output_type": "execute_result"
    },
    {
     "data": {
      "image/png": "[encoded data removed]",
      "text/plain": [
       "<matplotlib.figure.Figure at 0x1ce93ba8>"
      ]
     },
     "metadata": {},
     "output_type": "display_data"
    }
   ],
   "source": [
    "data_WinningBalls.hist(bins=39, normed=True, alpha=0.4, color='grey')\n",
    "data_WinningBalls.plot(kind='kde', title='Winning Balls', label='KDE pandas')\n",
    "sns.kdeplot(data_WinningBalls, bw=1, color='black', lw=1.0, label='KDE seaborn')"
   ]
  },
  {
   "cell_type": "markdown",
   "metadata": {},
   "source": [
    "## 4. Data Analysis"
   ]
  },
  {
   "cell_type": "markdown",
   "metadata": {},
   "source": [
    "#### People has got a lot of useful information from our plotting. But if they want some precise referance number, I need Group-by operations. First, create a new data set:"
   ]
  },
  {
   "cell_type": "code",
   "execution_count": 17,
   "metadata": {
    "collapsed": false
   },
   "outputs": [
    {
     "data": {
      "text/html": [
       "<div>\n",
       "<table border=\"1\" class=\"dataframe\">\n",
       "  <thead>\n",
       "    <tr style=\"text-align: right;\">\n",
       "      <th></th>\n",
       "      <th>0</th>\n",
       "      <th>1</th>\n",
       "      <th>2</th>\n",
       "      <th>3</th>\n",
       "      <th>4</th>\n",
       "      <th>5</th>\n",
       "      <th>6</th>\n",
       "      <th>7</th>\n",
       "      <th>8</th>\n",
       "      <th>9</th>\n",
       "      <th>...</th>\n",
       "      <th>190</th>\n",
       "      <th>191</th>\n",
       "      <th>192</th>\n",
       "      <th>193</th>\n",
       "      <th>194</th>\n",
       "      <th>195</th>\n",
       "      <th>196</th>\n",
       "      <th>197</th>\n",
       "      <th>198</th>\n",
       "      <th>199</th>\n",
       "    </tr>\n",
       "  </thead>\n",
       "  <tbody>\n",
       "    <tr>\n",
       "      <th>Number</th>\n",
       "      <td>6</td>\n",
       "      <td>2</td>\n",
       "      <td>4</td>\n",
       "      <td>22</td>\n",
       "      <td>27</td>\n",
       "      <td>16</td>\n",
       "      <td>37</td>\n",
       "      <td>29</td>\n",
       "      <td>24</td>\n",
       "      <td>33</td>\n",
       "      <td>...</td>\n",
       "      <td>25</td>\n",
       "      <td>32</td>\n",
       "      <td>35</td>\n",
       "      <td>21</td>\n",
       "      <td>14</td>\n",
       "      <td>12</td>\n",
       "      <td>8</td>\n",
       "      <td>34</td>\n",
       "      <td>23</td>\n",
       "      <td>29</td>\n",
       "    </tr>\n",
       "    <tr>\n",
       "      <th>Place</th>\n",
       "      <td>First</td>\n",
       "      <td>First</td>\n",
       "      <td>First</td>\n",
       "      <td>First</td>\n",
       "      <td>First</td>\n",
       "      <td>First</td>\n",
       "      <td>First</td>\n",
       "      <td>First</td>\n",
       "      <td>First</td>\n",
       "      <td>First</td>\n",
       "      <td>...</td>\n",
       "      <td>Fifth</td>\n",
       "      <td>Fifth</td>\n",
       "      <td>Fifth</td>\n",
       "      <td>Fifth</td>\n",
       "      <td>Fifth</td>\n",
       "      <td>Fifth</td>\n",
       "      <td>Fifth</td>\n",
       "      <td>Fifth</td>\n",
       "      <td>Fifth</td>\n",
       "      <td>Fifth</td>\n",
       "    </tr>\n",
       "  </tbody>\n",
       "</table>\n",
       "<p>2 rows × 200 columns</p>\n",
       "</div>"
      ],
      "text/plain": [
       "          0      1      2      3      4      5      6      7      8      9    \\\n",
       "Number      6      2      4     22     27     16     37     29     24     33   \n",
       "Place   First  First  First  First  First  First  First  First  First  First   \n",
       "\n",
       "        ...      190    191    192    193    194    195    196    197    198  \\\n",
       "Number  ...       25     32     35     21     14     12      8     34     23   \n",
       "Place   ...    Fifth  Fifth  Fifth  Fifth  Fifth  Fifth  Fifth  Fifth  Fifth   \n",
       "\n",
       "          199  \n",
       "Number     29  \n",
       "Place   Fifth  \n",
       "\n",
       "[2 rows x 200 columns]"
      ]
     },
     "execution_count": 17,
     "metadata": {},
     "output_type": "execute_result"
    }
   ],
   "source": [
    "data_WinningBalls_Place = pd.DataFrame({'Place' : '',\n",
    "                   'Number' : data_WinningBalls})\n",
    "data_WinningBalls_Place.Place.ix[:39] = 'First'\n",
    "data_WinningBalls_Place.Place.ix[40:79] = 'Second'\n",
    "data_WinningBalls_Place.Place.ix[80:119] = 'Third'\n",
    "data_WinningBalls_Place.Place.ix[120:159] = 'Fourth'\n",
    "data_WinningBalls_Place.Place.ix[160:199] = 'Fifth'\n",
    "data_WinningBalls_Place.T"
   ]
  },
  {
   "cell_type": "markdown",
   "metadata": {},
   "source": [
    "#### Group the data:"
   ]
  },
  {
   "cell_type": "code",
   "execution_count": 18,
   "metadata": {
    "collapsed": false
   },
   "outputs": [
    {
     "data": {
      "text/plain": [
       "<pandas.core.groupby.SeriesGroupBy object at 0x000000001CA1DBE0>"
      ]
     },
     "execution_count": 18,
     "metadata": {},
     "output_type": "execute_result"
    }
   ],
   "source": [
    "WinningBalls_grouped = data_WinningBalls_Place['Number'].groupby(data_WinningBalls_Place['Place'])\n",
    "WinningBalls_grouped"
   ]
  },
  {
   "cell_type": "markdown",
   "metadata": {},
   "source": [
    "#### Now I can give people more useful information. For example, if they likes bigger numbers, I can show them the biggest winning number for each place in the past 40 winning groups:"
   ]
  },
  {
   "cell_type": "code",
   "execution_count": 19,
   "metadata": {
    "collapsed": false
   },
   "outputs": [
    {
     "data": {
      "text/plain": [
       "Place\n",
       "Fifth     39\n",
       "First     39\n",
       "Fourth    39\n",
       "Second    36\n",
       "Third     39\n",
       "Name: Number, dtype: int64"
      ]
     },
     "execution_count": 19,
     "metadata": {},
     "output_type": "execute_result"
    }
   ],
   "source": [
    "data_WinningBalls_Place['Number'].groupby(data_WinningBalls_Place['Place']).max()"
   ]
  },
  {
   "cell_type": "markdown",
   "metadata": {},
   "source": [
    "#### Or they likes smaller numbers:"
   ]
  },
  {
   "cell_type": "code",
   "execution_count": 20,
   "metadata": {
    "collapsed": false
   },
   "outputs": [
    {
     "data": {
      "text/plain": [
       "Place\n",
       "Fifth     3\n",
       "First     1\n",
       "Fourth    1\n",
       "Second    1\n",
       "Third     1\n",
       "Name: Number, dtype: int64"
      ]
     },
     "execution_count": 20,
     "metadata": {},
     "output_type": "execute_result"
    }
   ],
   "source": [
    "data_WinningBalls_Place['Number'].groupby(data_WinningBalls_Place['Place']).min()"
   ]
  },
  {
   "cell_type": "markdown",
   "metadata": {},
   "source": [
    "#### I can also tell them the median number for each place:"
   ]
  },
  {
   "cell_type": "code",
   "execution_count": 21,
   "metadata": {
    "collapsed": false
   },
   "outputs": [
    {
     "data": {
      "text/plain": [
       "Place\n",
       "Fifth     21.0\n",
       "First     20.5\n",
       "Fourth    21.0\n",
       "Second    18.5\n",
       "Third     22.5\n",
       "Name: Number, dtype: float64"
      ]
     },
     "execution_count": 21,
     "metadata": {},
     "output_type": "execute_result"
    }
   ],
   "source": [
    "data_WinningBalls_Place['Number'].groupby(data_WinningBalls_Place['Place']).median()"
   ]
  },
  {
   "cell_type": "markdown",
   "metadata": {},
   "source": [
    "#### Even everything about these numbers in the table:"
   ]
  },
  {
   "cell_type": "code",
   "execution_count": 22,
   "metadata": {
    "collapsed": false
   },
   "outputs": [
    {
     "data": {
      "text/html": [
       "<div>\n",
       "<table border=\"1\" class=\"dataframe\">\n",
       "  <thead>\n",
       "    <tr style=\"text-align: right;\">\n",
       "      <th></th>\n",
       "      <th>sum</th>\n",
       "      <th>count</th>\n",
       "      <th>mean</th>\n",
       "      <th>median</th>\n",
       "      <th>min</th>\n",
       "      <th>max</th>\n",
       "      <th>std</th>\n",
       "      <th>var</th>\n",
       "    </tr>\n",
       "    <tr>\n",
       "      <th>Place</th>\n",
       "      <th></th>\n",
       "      <th></th>\n",
       "      <th></th>\n",
       "      <th></th>\n",
       "      <th></th>\n",
       "      <th></th>\n",
       "      <th></th>\n",
       "      <th></th>\n",
       "    </tr>\n",
       "  </thead>\n",
       "  <tbody>\n",
       "    <tr>\n",
       "      <th>Fifth</th>\n",
       "      <td>831</td>\n",
       "      <td>40</td>\n",
       "      <td>20.775</td>\n",
       "      <td>21.0</td>\n",
       "      <td>3</td>\n",
       "      <td>39</td>\n",
       "      <td>10.506378</td>\n",
       "      <td>110.383974</td>\n",
       "    </tr>\n",
       "    <tr>\n",
       "      <th>First</th>\n",
       "      <td>755</td>\n",
       "      <td>40</td>\n",
       "      <td>18.875</td>\n",
       "      <td>20.5</td>\n",
       "      <td>1</td>\n",
       "      <td>39</td>\n",
       "      <td>12.159596</td>\n",
       "      <td>147.855769</td>\n",
       "    </tr>\n",
       "    <tr>\n",
       "      <th>Fourth</th>\n",
       "      <td>834</td>\n",
       "      <td>40</td>\n",
       "      <td>20.850</td>\n",
       "      <td>21.0</td>\n",
       "      <td>1</td>\n",
       "      <td>39</td>\n",
       "      <td>11.083714</td>\n",
       "      <td>122.848718</td>\n",
       "    </tr>\n",
       "    <tr>\n",
       "      <th>Second</th>\n",
       "      <td>734</td>\n",
       "      <td>40</td>\n",
       "      <td>18.350</td>\n",
       "      <td>18.5</td>\n",
       "      <td>1</td>\n",
       "      <td>36</td>\n",
       "      <td>10.435516</td>\n",
       "      <td>108.900000</td>\n",
       "    </tr>\n",
       "    <tr>\n",
       "      <th>Third</th>\n",
       "      <td>862</td>\n",
       "      <td>40</td>\n",
       "      <td>21.550</td>\n",
       "      <td>22.5</td>\n",
       "      <td>1</td>\n",
       "      <td>39</td>\n",
       "      <td>12.280796</td>\n",
       "      <td>150.817949</td>\n",
       "    </tr>\n",
       "  </tbody>\n",
       "</table>\n",
       "</div>"
      ],
      "text/plain": [
       "        sum  count    mean  median  min  max        std         var\n",
       "Place                                                              \n",
       "Fifth   831     40  20.775    21.0    3   39  10.506378  110.383974\n",
       "First   755     40  18.875    20.5    1   39  12.159596  147.855769\n",
       "Fourth  834     40  20.850    21.0    1   39  11.083714  122.848718\n",
       "Second  734     40  18.350    18.5    1   36  10.435516  108.900000\n",
       "Third   862     40  21.550    22.5    1   39  12.280796  150.817949"
      ]
     },
     "execution_count": 22,
     "metadata": {},
     "output_type": "execute_result"
    }
   ],
   "source": [
    "WinningBalls_grouped.agg(['sum','count','mean','median','min','max','std','var'])"
   ]
  },
  {
   "cell_type": "markdown",
   "metadata": {},
   "source": [
    "#### Make a quick plot of this data, if people wants to get some feeling about the trend of each place."
   ]
  },
  {
   "cell_type": "code",
   "execution_count": 23,
   "metadata": {
    "collapsed": false
   },
   "outputs": [
    {
     "data": {
      "text/plain": [
       "Place\n",
       "Fifth     Axes(0.125,0.125;0.775x0.775)\n",
       "First     Axes(0.125,0.125;0.775x0.775)\n",
       "Fourth    Axes(0.125,0.125;0.775x0.775)\n",
       "Second    Axes(0.125,0.125;0.775x0.775)\n",
       "Third     Axes(0.125,0.125;0.775x0.775)\n",
       "dtype: object"
      ]
     },
     "execution_count": 23,
     "metadata": {},
     "output_type": "execute_result"
    },
    {
     "data": {
      "image/png": "[encoded data removed]",
      "text/plain": [
       "<matplotlib.figure.Figure at 0x2591c358>"
      ]
     },
     "metadata": {},
     "output_type": "display_data"
    }
   ],
   "source": [
    "WinningBalls_grouped.plot()"
   ]
  },
  {
   "cell_type": "markdown",
   "metadata": {
    "collapsed": true
   },
   "source": [
    "#### Sometimes people like to choose the numbers form every range for a feeling of balance. For instance, some people may choose one number from \"1-9\", two numbers from \"10-19\",  one number from \"20-29\"and one numbers from \"30-39\". No problem, I can also give people some referance like that:"
   ]
  },
  {
   "cell_type": "code",
   "execution_count": 24,
   "metadata": {
    "collapsed": false
   },
   "outputs": [
    {
     "name": "stderr",
     "output_type": "stream",
     "text": [
      "D:\\WinPython-64bit-2.7.10.3\\python-2.7.10.amd64\\lib\\site-packages\\ipykernel\\__main__.py:12: SettingWithCopyWarning: \n",
      "A value is trying to be set on a copy of a slice from a DataFrame\n",
      "\n",
      "See the caveats in the documentation: http://pandas.pydata.org/pandas-docs/stable/indexing.html#indexing-view-versus-copy\n",
      "D:\\WinPython-64bit-2.7.10.3\\python-2.7.10.amd64\\lib\\site-packages\\ipykernel\\__main__.py:7: SettingWithCopyWarning: \n",
      "A value is trying to be set on a copy of a slice from a DataFrame\n",
      "\n",
      "See the caveats in the documentation: http://pandas.pydata.org/pandas-docs/stable/indexing.html#indexing-view-versus-copy\n",
      "D:\\WinPython-64bit-2.7.10.3\\python-2.7.10.amd64\\lib\\site-packages\\ipykernel\\__main__.py:10: SettingWithCopyWarning: \n",
      "A value is trying to be set on a copy of a slice from a DataFrame\n",
      "\n",
      "See the caveats in the documentation: http://pandas.pydata.org/pandas-docs/stable/indexing.html#indexing-view-versus-copy\n",
      "D:\\WinPython-64bit-2.7.10.3\\python-2.7.10.amd64\\lib\\site-packages\\ipykernel\\__main__.py:4: SettingWithCopyWarning: \n",
      "A value is trying to be set on a copy of a slice from a DataFrame\n",
      "\n",
      "See the caveats in the documentation: http://pandas.pydata.org/pandas-docs/stable/indexing.html#indexing-view-versus-copy\n"
     ]
    }
   ],
   "source": [
    "data_WinningBalls_Place['Range']=''\n",
    "for x in range(0,200):\n",
    "    if data_WinningBalls_Place.Number[x] >= 30:\n",
    "        data_WinningBalls_Place.Range[x] = '30-39' \n",
    "    else:\n",
    "        if data_WinningBalls_Place.Number[x] >= 20:\n",
    "            data_WinningBalls_Place.Range[x] = '20-29' \n",
    "        else:\n",
    "            if data_WinningBalls_Place.Number[x] >= 10:\n",
    "                data_WinningBalls_Place.Range[x] = '10-19' \n",
    "            else:\n",
    "                data_WinningBalls_Place.Range[x] = '1-9'"
   ]
  },
  {
   "cell_type": "code",
   "execution_count": 25,
   "metadata": {
    "collapsed": false
   },
   "outputs": [
    {
     "data": {
      "text/html": [
       "<div>\n",
       "<table border=\"1\" class=\"dataframe\">\n",
       "  <thead>\n",
       "    <tr style=\"text-align: right;\">\n",
       "      <th></th>\n",
       "      <th>0</th>\n",
       "      <th>1</th>\n",
       "      <th>2</th>\n",
       "      <th>3</th>\n",
       "      <th>4</th>\n",
       "      <th>5</th>\n",
       "      <th>6</th>\n",
       "      <th>7</th>\n",
       "      <th>8</th>\n",
       "      <th>9</th>\n",
       "      <th>...</th>\n",
       "      <th>190</th>\n",
       "      <th>191</th>\n",
       "      <th>192</th>\n",
       "      <th>193</th>\n",
       "      <th>194</th>\n",
       "      <th>195</th>\n",
       "      <th>196</th>\n",
       "      <th>197</th>\n",
       "      <th>198</th>\n",
       "      <th>199</th>\n",
       "    </tr>\n",
       "  </thead>\n",
       "  <tbody>\n",
       "    <tr>\n",
       "      <th>Number</th>\n",
       "      <td>6</td>\n",
       "      <td>2</td>\n",
       "      <td>4</td>\n",
       "      <td>22</td>\n",
       "      <td>27</td>\n",
       "      <td>16</td>\n",
       "      <td>37</td>\n",
       "      <td>29</td>\n",
       "      <td>24</td>\n",
       "      <td>33</td>\n",
       "      <td>...</td>\n",
       "      <td>25</td>\n",
       "      <td>32</td>\n",
       "      <td>35</td>\n",
       "      <td>21</td>\n",
       "      <td>14</td>\n",
       "      <td>12</td>\n",
       "      <td>8</td>\n",
       "      <td>34</td>\n",
       "      <td>23</td>\n",
       "      <td>29</td>\n",
       "    </tr>\n",
       "    <tr>\n",
       "      <th>Place</th>\n",
       "      <td>First</td>\n",
       "      <td>First</td>\n",
       "      <td>First</td>\n",
       "      <td>First</td>\n",
       "      <td>First</td>\n",
       "      <td>First</td>\n",
       "      <td>First</td>\n",
       "      <td>First</td>\n",
       "      <td>First</td>\n",
       "      <td>First</td>\n",
       "      <td>...</td>\n",
       "      <td>Fifth</td>\n",
       "      <td>Fifth</td>\n",
       "      <td>Fifth</td>\n",
       "      <td>Fifth</td>\n",
       "      <td>Fifth</td>\n",
       "      <td>Fifth</td>\n",
       "      <td>Fifth</td>\n",
       "      <td>Fifth</td>\n",
       "      <td>Fifth</td>\n",
       "      <td>Fifth</td>\n",
       "    </tr>\n",
       "    <tr>\n",
       "      <th>Range</th>\n",
       "      <td>1-9</td>\n",
       "      <td>1-9</td>\n",
       "      <td>1-9</td>\n",
       "      <td>20-29</td>\n",
       "      <td>20-29</td>\n",
       "      <td>10-19</td>\n",
       "      <td>30-39</td>\n",
       "      <td>20-29</td>\n",
       "      <td>20-29</td>\n",
       "      <td>30-39</td>\n",
       "      <td>...</td>\n",
       "      <td>20-29</td>\n",
       "      <td>30-39</td>\n",
       "      <td>30-39</td>\n",
       "      <td>20-29</td>\n",
       "      <td>10-19</td>\n",
       "      <td>10-19</td>\n",
       "      <td>1-9</td>\n",
       "      <td>30-39</td>\n",
       "      <td>20-29</td>\n",
       "      <td>20-29</td>\n",
       "    </tr>\n",
       "  </tbody>\n",
       "</table>\n",
       "<p>3 rows × 200 columns</p>\n",
       "</div>"
      ],
      "text/plain": [
       "          0      1      2      3      4      5      6      7      8      9    \\\n",
       "Number      6      2      4     22     27     16     37     29     24     33   \n",
       "Place   First  First  First  First  First  First  First  First  First  First   \n",
       "Range     1-9    1-9    1-9  20-29  20-29  10-19  30-39  20-29  20-29  30-39   \n",
       "\n",
       "        ...      190    191    192    193    194    195    196    197    198  \\\n",
       "Number  ...       25     32     35     21     14     12      8     34     23   \n",
       "Place   ...    Fifth  Fifth  Fifth  Fifth  Fifth  Fifth  Fifth  Fifth  Fifth   \n",
       "Range   ...    20-29  30-39  30-39  20-29  10-19  10-19    1-9  30-39  20-29   \n",
       "\n",
       "          199  \n",
       "Number     29  \n",
       "Place   Fifth  \n",
       "Range   20-29  \n",
       "\n",
       "[3 rows x 200 columns]"
      ]
     },
     "execution_count": 25,
     "metadata": {},
     "output_type": "execute_result"
    }
   ],
   "source": [
    "data_WinningBalls_Place.T"
   ]
  },
  {
   "cell_type": "markdown",
   "metadata": {
    "collapsed": true
   },
   "source": [
    "#### Use cross-tabulation to make the referance table:"
   ]
  },
  {
   "cell_type": "code",
   "execution_count": 26,
   "metadata": {
    "collapsed": false
   },
   "outputs": [
    {
     "data": {
      "text/html": [
       "<div>\n",
       "<table border=\"1\" class=\"dataframe\">\n",
       "  <thead>\n",
       "    <tr style=\"text-align: right;\">\n",
       "      <th>Range</th>\n",
       "      <th>1-9</th>\n",
       "      <th>10-19</th>\n",
       "      <th>20-29</th>\n",
       "      <th>30-39</th>\n",
       "      <th>All</th>\n",
       "    </tr>\n",
       "    <tr>\n",
       "      <th>Place</th>\n",
       "      <th></th>\n",
       "      <th></th>\n",
       "      <th></th>\n",
       "      <th></th>\n",
       "      <th></th>\n",
       "    </tr>\n",
       "  </thead>\n",
       "  <tbody>\n",
       "    <tr>\n",
       "      <th>Fifth</th>\n",
       "      <td>7</td>\n",
       "      <td>11</td>\n",
       "      <td>12</td>\n",
       "      <td>10</td>\n",
       "      <td>40</td>\n",
       "    </tr>\n",
       "    <tr>\n",
       "      <th>First</th>\n",
       "      <td>12</td>\n",
       "      <td>8</td>\n",
       "      <td>12</td>\n",
       "      <td>8</td>\n",
       "      <td>40</td>\n",
       "    </tr>\n",
       "    <tr>\n",
       "      <th>Fourth</th>\n",
       "      <td>8</td>\n",
       "      <td>10</td>\n",
       "      <td>11</td>\n",
       "      <td>11</td>\n",
       "      <td>40</td>\n",
       "    </tr>\n",
       "    <tr>\n",
       "      <th>Second</th>\n",
       "      <td>11</td>\n",
       "      <td>10</td>\n",
       "      <td>12</td>\n",
       "      <td>7</td>\n",
       "      <td>40</td>\n",
       "    </tr>\n",
       "    <tr>\n",
       "      <th>Third</th>\n",
       "      <td>8</td>\n",
       "      <td>11</td>\n",
       "      <td>5</td>\n",
       "      <td>16</td>\n",
       "      <td>40</td>\n",
       "    </tr>\n",
       "    <tr>\n",
       "      <th>All</th>\n",
       "      <td>46</td>\n",
       "      <td>50</td>\n",
       "      <td>52</td>\n",
       "      <td>52</td>\n",
       "      <td>200</td>\n",
       "    </tr>\n",
       "  </tbody>\n",
       "</table>\n",
       "</div>"
      ],
      "text/plain": [
       "Range   1-9  10-19  20-29  30-39  All\n",
       "Place                                \n",
       "Fifth     7     11     12     10   40\n",
       "First    12      8     12      8   40\n",
       "Fourth    8     10     11     11   40\n",
       "Second   11     10     12      7   40\n",
       "Third     8     11      5     16   40\n",
       "All      46     50     52     52  200"
      ]
     },
     "execution_count": 26,
     "metadata": {},
     "output_type": "execute_result"
    }
   ],
   "source": [
    "pd.crosstab(data_WinningBalls_Place.Place, data_WinningBalls_Place.Range, margins=True)"
   ]
  },
  {
   "cell_type": "markdown",
   "metadata": {},
   "source": [
    "## 5. Predictive Modelling (Regression)"
   ]
  },
  {
   "cell_type": "markdown",
   "metadata": {
    "collapsed": true
   },
   "source": [
    "#### Some people believe that there are some unbeknown regularity among the 5 numbers in each winning group. Is there any clue linking the different numbers? If people think so, I can give them some help and advices with python. I will focus on these 40 newest groups:"
   ]
  },
  {
   "cell_type": "code",
   "execution_count": 27,
   "metadata": {
    "collapsed": false
   },
   "outputs": [
    {
     "data": {
      "text/html": [
       "<div>\n",
       "<table border=\"1\" class=\"dataframe\">\n",
       "  <thead>\n",
       "    <tr style=\"text-align: right;\">\n",
       "      <th></th>\n",
       "      <th>0</th>\n",
       "      <th>1</th>\n",
       "      <th>2</th>\n",
       "      <th>3</th>\n",
       "      <th>4</th>\n",
       "      <th>5</th>\n",
       "      <th>6</th>\n",
       "      <th>7</th>\n",
       "      <th>8</th>\n",
       "      <th>9</th>\n",
       "      <th>...</th>\n",
       "      <th>30</th>\n",
       "      <th>31</th>\n",
       "      <th>32</th>\n",
       "      <th>33</th>\n",
       "      <th>34</th>\n",
       "      <th>35</th>\n",
       "      <th>36</th>\n",
       "      <th>37</th>\n",
       "      <th>38</th>\n",
       "      <th>39</th>\n",
       "    </tr>\n",
       "  </thead>\n",
       "  <tbody>\n",
       "    <tr>\n",
       "      <th>FirstBall</th>\n",
       "      <td>6</td>\n",
       "      <td>2</td>\n",
       "      <td>4</td>\n",
       "      <td>22</td>\n",
       "      <td>27</td>\n",
       "      <td>16</td>\n",
       "      <td>37</td>\n",
       "      <td>29</td>\n",
       "      <td>24</td>\n",
       "      <td>33</td>\n",
       "      <td>...</td>\n",
       "      <td>36</td>\n",
       "      <td>1</td>\n",
       "      <td>10</td>\n",
       "      <td>24</td>\n",
       "      <td>9</td>\n",
       "      <td>25</td>\n",
       "      <td>19</td>\n",
       "      <td>10</td>\n",
       "      <td>29</td>\n",
       "      <td>7</td>\n",
       "    </tr>\n",
       "    <tr>\n",
       "      <th>SecondBall</th>\n",
       "      <td>5</td>\n",
       "      <td>19</td>\n",
       "      <td>26</td>\n",
       "      <td>2</td>\n",
       "      <td>15</td>\n",
       "      <td>5</td>\n",
       "      <td>18</td>\n",
       "      <td>35</td>\n",
       "      <td>9</td>\n",
       "      <td>10</td>\n",
       "      <td>...</td>\n",
       "      <td>7</td>\n",
       "      <td>8</td>\n",
       "      <td>1</td>\n",
       "      <td>36</td>\n",
       "      <td>33</td>\n",
       "      <td>11</td>\n",
       "      <td>33</td>\n",
       "      <td>27</td>\n",
       "      <td>24</td>\n",
       "      <td>16</td>\n",
       "    </tr>\n",
       "    <tr>\n",
       "      <th>ThirdBall</th>\n",
       "      <td>8</td>\n",
       "      <td>30</td>\n",
       "      <td>13</td>\n",
       "      <td>5</td>\n",
       "      <td>10</td>\n",
       "      <td>22</td>\n",
       "      <td>14</td>\n",
       "      <td>39</td>\n",
       "      <td>4</td>\n",
       "      <td>8</td>\n",
       "      <td>...</td>\n",
       "      <td>32</td>\n",
       "      <td>28</td>\n",
       "      <td>38</td>\n",
       "      <td>15</td>\n",
       "      <td>26</td>\n",
       "      <td>15</td>\n",
       "      <td>2</td>\n",
       "      <td>36</td>\n",
       "      <td>5</td>\n",
       "      <td>12</td>\n",
       "    </tr>\n",
       "    <tr>\n",
       "      <th>FourthBall</th>\n",
       "      <td>3</td>\n",
       "      <td>8</td>\n",
       "      <td>18</td>\n",
       "      <td>25</td>\n",
       "      <td>23</td>\n",
       "      <td>39</td>\n",
       "      <td>34</td>\n",
       "      <td>23</td>\n",
       "      <td>14</td>\n",
       "      <td>18</td>\n",
       "      <td>...</td>\n",
       "      <td>19</td>\n",
       "      <td>29</td>\n",
       "      <td>12</td>\n",
       "      <td>16</td>\n",
       "      <td>39</td>\n",
       "      <td>30</td>\n",
       "      <td>17</td>\n",
       "      <td>2</td>\n",
       "      <td>20</td>\n",
       "      <td>11</td>\n",
       "    </tr>\n",
       "    <tr>\n",
       "      <th>FifthBall</th>\n",
       "      <td>24</td>\n",
       "      <td>5</td>\n",
       "      <td>32</td>\n",
       "      <td>20</td>\n",
       "      <td>13</td>\n",
       "      <td>19</td>\n",
       "      <td>7</td>\n",
       "      <td>8</td>\n",
       "      <td>13</td>\n",
       "      <td>34</td>\n",
       "      <td>...</td>\n",
       "      <td>25</td>\n",
       "      <td>32</td>\n",
       "      <td>35</td>\n",
       "      <td>21</td>\n",
       "      <td>14</td>\n",
       "      <td>12</td>\n",
       "      <td>8</td>\n",
       "      <td>34</td>\n",
       "      <td>23</td>\n",
       "      <td>29</td>\n",
       "    </tr>\n",
       "  </tbody>\n",
       "</table>\n",
       "<p>5 rows × 40 columns</p>\n",
       "</div>"
      ],
      "text/plain": [
       "            0   1   2   3   4   5   6   7   8   9  ...  30  31  32  33  34  \\\n",
       "FirstBall    6   2   4  22  27  16  37  29  24  33 ...  36   1  10  24   9   \n",
       "SecondBall   5  19  26   2  15   5  18  35   9  10 ...   7   8   1  36  33   \n",
       "ThirdBall    8  30  13   5  10  22  14  39   4   8 ...  32  28  38  15  26   \n",
       "FourthBall   3   8  18  25  23  39  34  23  14  18 ...  19  29  12  16  39   \n",
       "FifthBall   24   5  32  20  13  19   7   8  13  34 ...  25  32  35  21  14   \n",
       "\n",
       "            35  36  37  38  39  \n",
       "FirstBall   25  19  10  29   7  \n",
       "SecondBall  11  33  27  24  16  \n",
       "ThirdBall   15   2  36   5  12  \n",
       "FourthBall  30  17   2  20  11  \n",
       "FifthBall   12   8  34  23  29  \n",
       "\n",
       "[5 rows x 40 columns]"
      ]
     },
     "execution_count": 27,
     "metadata": {},
     "output_type": "execute_result"
    }
   ],
   "source": [
    "data_NewYorkLottery.T"
   ]
  },
  {
   "cell_type": "markdown",
   "metadata": {},
   "source": [
    "#### Software Environment"
   ]
  },
  {
   "cell_type": "code",
   "execution_count": 28,
   "metadata": {
    "collapsed": false
   },
   "outputs": [],
   "source": [
    "import statsmodels.formula.api as smf\n",
    "import scipy\n",
    "import statsmodels.api as sm\n",
    "from statsmodels.sandbox.regression.predstd import wls_prediction_std\n",
    "import math \n",
    "from sklearn import neighbors"
   ]
  },
  {
   "cell_type": "code",
   "execution_count": 29,
   "metadata": {
    "collapsed": true
   },
   "outputs": [],
   "source": [
    "from pylab import rcParams\n",
    "\n",
    "sns.set(style=\"ticks\")\n",
    "\n",
    "rcParams['figure.dpi'] = 350\n",
    "rcParams['lines.linewidth'] = 2\n",
    "rcParams['axes.facecolor'] = 'white'\n",
    "rcParams['patch.edgecolor'] = 'white'\n",
    "rcParams['font.family'] = 'StixGeneral'\n",
    "rcParams['figure.figsize'] = 10,8\n",
    "rcParams['font.size'] = 20\n",
    "rcParams['axes.labelsize'] = 'large'\n",
    "rcParams['xtick.labelsize'] = 20\n",
    "rcParams['ytick.labelsize'] = 20"
   ]
  },
  {
   "cell_type": "markdown",
   "metadata": {},
   "source": [
    "#### Firstly, try to find the clue linking the first number and the second number:"
   ]
  },
  {
   "cell_type": "code",
   "execution_count": 30,
   "metadata": {
    "collapsed": false
   },
   "outputs": [
    {
     "name": "stderr",
     "output_type": "stream",
     "text": [
      "D:\\WinPython-64bit-2.7.10.3\\python-2.7.10.amd64\\lib\\site-packages\\statsmodels\\base\\model.py:739: DeprecationWarning: The DesignInfo.builder attribute is deprecated starting in patsy v0.4.0; distinct builder objects have been eliminated and design_info.builder is now just a long-winded way of writing 'design_info' (i.e. the .builder attribute just returns self)\n",
      "  exog = dmatrix(self.model.data.orig_exog.design_info.builder,\n",
      "D:\\WinPython-64bit-2.7.10.3\\python-2.7.10.amd64\\lib\\site-packages\\statsmodels\\base\\model.py:739: DeprecationWarning: The DesignInfo.builder attribute is deprecated starting in patsy v0.4.0; distinct builder objects have been eliminated and design_info.builder is now just a long-winded way of writing 'design_info' (i.e. the .builder attribute just returns self)\n",
      "  exog = dmatrix(self.model.data.orig_exog.design_info.builder,\n",
      "D:\\WinPython-64bit-2.7.10.3\\python-2.7.10.amd64\\lib\\site-packages\\statsmodels\\base\\model.py:739: DeprecationWarning: The DesignInfo.builder attribute is deprecated starting in patsy v0.4.0; distinct builder objects have been eliminated and design_info.builder is now just a long-winded way of writing 'design_info' (i.e. the .builder attribute just returns self)\n",
      "  exog = dmatrix(self.model.data.orig_exog.design_info.builder,\n"
     ]
    },
    {
     "data": {
      "text/plain": [
       "<matplotlib.legend.Legend at 0x21b31898>"
      ]
     },
     "execution_count": 30,
     "metadata": {},
     "output_type": "execute_result"
    },
    {
     "data": {
      "image/png": "[encoded data removed]",
      "text/plain": [
       "<matplotlib.figure.Figure at 0x26443b38>"
      ]
     },
     "metadata": {},
     "output_type": "display_data"
    }
   ],
   "source": [
    "plt.scatter(data_NewYorkLottery.FirstBall, data_NewYorkLottery.SecondBall, s=10, alpha=0.3)\n",
    "plt.xlabel('FirstBall')\n",
    "plt.ylabel('SecondBall')\n",
    "\n",
    "x = pd.DataFrame({'FirstBall': np.linspace(data_NewYorkLottery.FirstBall.min(),\n",
    "                                            data_NewYorkLottery.FirstBall.max(), len(data_NewYorkLottery.FirstBall)) })\n",
    "\n",
    "poly_1 = smf.ols(formula='SecondBall ~ 1 + FirstBall', data=data_NewYorkLottery).fit()\n",
    "plt.plot(x, poly_1.predict(x), 'b-', label='Poly n=1 $R^2$=%.2f' % poly_1.rsquared,  alpha=0.9)\n",
    "\n",
    "poly_2 = smf.ols(formula='SecondBall ~ 1 + FirstBall + I(FirstBall ** 2.0)', data=data_NewYorkLottery).fit()\n",
    "plt.plot(x, poly_2.predict(x), 'g-', label='Poly n=2 $R^2$=%.2f' % poly_2.rsquared, alpha=0.9)\n",
    "\n",
    "poly_3 = smf.ols(formula='SecondBall ~ 1 + FirstBall + I(FirstBall ** 2.0) + I(FirstBall ** 3.0)', data=data_NewYorkLottery).fit()\n",
    "plt.plot(x, poly_3.predict(x), 'r-', alpha=0.9,\n",
    "         label='Poly n=3 $R^2$=%.2f' % poly_3.rsquared)\n",
    "\n",
    "plt.legend()"
   ]
  },
  {
   "cell_type": "markdown",
   "metadata": {},
   "source": [
    "#### Now I get 3 polynomial models and 3 R^2. Record the highest value of R^2 because this number indicates how well the data fit the statistical model. We can name it \"1to2 R^2\". "
   ]
  },
  {
   "cell_type": "markdown",
   "metadata": {},
   "source": [
    "#### Secondly, try to find the clue linking the second number and the third number:"
   ]
  },
  {
   "cell_type": "code",
   "execution_count": 31,
   "metadata": {
    "collapsed": false
   },
   "outputs": [
    {
     "name": "stderr",
     "output_type": "stream",
     "text": [
      "D:\\WinPython-64bit-2.7.10.3\\python-2.7.10.amd64\\lib\\site-packages\\statsmodels\\base\\model.py:739: DeprecationWarning: The DesignInfo.builder attribute is deprecated starting in patsy v0.4.0; distinct builder objects have been eliminated and design_info.builder is now just a long-winded way of writing 'design_info' (i.e. the .builder attribute just returns self)\n",
      "  exog = dmatrix(self.model.data.orig_exog.design_info.builder,\n",
      "D:\\WinPython-64bit-2.7.10.3\\python-2.7.10.amd64\\lib\\site-packages\\statsmodels\\base\\model.py:739: DeprecationWarning: The DesignInfo.builder attribute is deprecated starting in patsy v0.4.0; distinct builder objects have been eliminated and design_info.builder is now just a long-winded way of writing 'design_info' (i.e. the .builder attribute just returns self)\n",
      "  exog = dmatrix(self.model.data.orig_exog.design_info.builder,\n",
      "D:\\WinPython-64bit-2.7.10.3\\python-2.7.10.amd64\\lib\\site-packages\\statsmodels\\base\\model.py:739: DeprecationWarning: The DesignInfo.builder attribute is deprecated starting in patsy v0.4.0; distinct builder objects have been eliminated and design_info.builder is now just a long-winded way of writing 'design_info' (i.e. the .builder attribute just returns self)\n",
      "  exog = dmatrix(self.model.data.orig_exog.design_info.builder,\n"
     ]
    },
    {
     "data": {
      "text/plain": [
       "<matplotlib.legend.Legend at 0x21b31e80>"
      ]
     },
     "execution_count": 31,
     "metadata": {},
     "output_type": "execute_result"
    },
    {
     "data": {
      "image/png": "[encoded data removed]",
      "text/plain": [
       "<matplotlib.figure.Figure at 0x21c60860>"
      ]
     },
     "metadata": {},
     "output_type": "display_data"
    }
   ],
   "source": [
    "plt.scatter(data_NewYorkLottery.SecondBall, data_NewYorkLottery.ThirdBall, s=10, alpha=0.3)\n",
    "plt.xlabel('SecondBall')\n",
    "plt.ylabel('ThirdBall')\n",
    "\n",
    "x = pd.DataFrame({'SecondBall': np.linspace(data_NewYorkLottery.SecondBall.min(),\n",
    "                                            data_NewYorkLottery.SecondBall.max(), len(data_NewYorkLottery.SecondBall)) })\n",
    "\n",
    "poly_1 = smf.ols(formula='ThirdBall ~ 1 + SecondBall', data=data_NewYorkLottery).fit()\n",
    "plt.plot(x, poly_1.predict(x), 'b-', label='Poly n=1 $R^2$=%.2f' % poly_1.rsquared,  alpha=0.9)\n",
    "\n",
    "poly_2 = smf.ols(formula='ThirdBall ~ 1 + SecondBall + I(SecondBall ** 2.0)', data=data_NewYorkLottery).fit()\n",
    "plt.plot(x, poly_2.predict(x), 'g-', label='Poly n=2 $R^2$=%.2f' % poly_2.rsquared, alpha=0.9)\n",
    "\n",
    "poly_3 = smf.ols(formula='ThirdBall ~ 1 + SecondBall + I(SecondBall ** 2.0) + I(SecondBall ** 3.0)', data=data_NewYorkLottery).fit()\n",
    "plt.plot(x, poly_3.predict(x), 'r-', alpha=0.9,\n",
    "         label='Poly n=3 $R^2$=%.2f' % poly_3.rsquared)\n",
    "\n",
    "plt.legend()"
   ]
  },
  {
   "cell_type": "markdown",
   "metadata": {
    "collapsed": true
   },
   "source": [
    "#### Record the highest value of R squared and name it \"2to3 R^2\". Then go on the clue linking the third number and the four number:"
   ]
  },
  {
   "cell_type": "code",
   "execution_count": 32,
   "metadata": {
    "collapsed": false
   },
   "outputs": [
    {
     "name": "stderr",
     "output_type": "stream",
     "text": [
      "D:\\WinPython-64bit-2.7.10.3\\python-2.7.10.amd64\\lib\\site-packages\\statsmodels\\base\\model.py:739: DeprecationWarning: The DesignInfo.builder attribute is deprecated starting in patsy v0.4.0; distinct builder objects have been eliminated and design_info.builder is now just a long-winded way of writing 'design_info' (i.e. the .builder attribute just returns self)\n",
      "  exog = dmatrix(self.model.data.orig_exog.design_info.builder,\n",
      "D:\\WinPython-64bit-2.7.10.3\\python-2.7.10.amd64\\lib\\site-packages\\statsmodels\\base\\model.py:739: DeprecationWarning: The DesignInfo.builder attribute is deprecated starting in patsy v0.4.0; distinct builder objects have been eliminated and design_info.builder is now just a long-winded way of writing 'design_info' (i.e. the .builder attribute just returns self)\n",
      "  exog = dmatrix(self.model.data.orig_exog.design_info.builder,\n",
      "D:\\WinPython-64bit-2.7.10.3\\python-2.7.10.amd64\\lib\\site-packages\\statsmodels\\base\\model.py:739: DeprecationWarning: The DesignInfo.builder attribute is deprecated starting in patsy v0.4.0; distinct builder objects have been eliminated and design_info.builder is now just a long-winded way of writing 'design_info' (i.e. the .builder attribute just returns self)\n",
      "  exog = dmatrix(self.model.data.orig_exog.design_info.builder,\n"
     ]
    },
    {
     "data": {
      "text/plain": [
       "<matplotlib.legend.Legend at 0x21aef400>"
      ]
     },
     "execution_count": 32,
     "metadata": {},
     "output_type": "execute_result"
    },
    {
     "data": {
      "image/png": "[encoded data removed]",
      "text/plain": [
       "<matplotlib.figure.Figure at 0x25a0de10>"
      ]
     },
     "metadata": {},
     "output_type": "display_data"
    }
   ],
   "source": [
    "plt.scatter(data_NewYorkLottery.ThirdBall, data_NewYorkLottery.FourthBall, s=10, alpha=0.3)\n",
    "plt.xlabel('ThirdBall')\n",
    "plt.ylabel('FourthBall')\n",
    "\n",
    "x = pd.DataFrame({'ThirdBall': np.linspace(data_NewYorkLottery.ThirdBall.min(),\n",
    "                                            data_NewYorkLottery.ThirdBall.max(), len(data_NewYorkLottery.ThirdBall)) })\n",
    "\n",
    "poly_1 = smf.ols(formula='FourthBall ~ 1 + ThirdBall', data=data_NewYorkLottery).fit()\n",
    "plt.plot(x, poly_1.predict(x), 'b-', label='Poly n=1 $R^2$=%.2f' % poly_1.rsquared,  alpha=0.9)\n",
    "\n",
    "poly_2 = smf.ols(formula='FourthBall ~ 1 + ThirdBall + I(ThirdBall ** 2.0)', data=data_NewYorkLottery).fit()\n",
    "plt.plot(x, poly_2.predict(x), 'g-', label='Poly n=2 $R^2$=%.2f' % poly_2.rsquared, alpha=0.9)\n",
    "\n",
    "poly_3 = smf.ols(formula='FourthBall ~ 1 + ThirdBall + I(ThirdBall ** 2.0) + I(ThirdBall ** 3.0)', data=data_NewYorkLottery).fit()\n",
    "plt.plot(x, poly_3.predict(x), 'r-', alpha=0.9,\n",
    "         label='Poly n=3 $R^2$=%.2f' % poly_3.rsquared)\n",
    "\n",
    "plt.legend()"
   ]
  },
  {
   "cell_type": "markdown",
   "metadata": {},
   "source": [
    "#### Record the \"3to4 R^2\". Next go on the last clue linking the fourth number and the fifth number:"
   ]
  },
  {
   "cell_type": "code",
   "execution_count": 33,
   "metadata": {
    "collapsed": false
   },
   "outputs": [
    {
     "name": "stderr",
     "output_type": "stream",
     "text": [
      "D:\\WinPython-64bit-2.7.10.3\\python-2.7.10.amd64\\lib\\site-packages\\statsmodels\\base\\model.py:739: DeprecationWarning: The DesignInfo.builder attribute is deprecated starting in patsy v0.4.0; distinct builder objects have been eliminated and design_info.builder is now just a long-winded way of writing 'design_info' (i.e. the .builder attribute just returns self)\n",
      "  exog = dmatrix(self.model.data.orig_exog.design_info.builder,\n",
      "D:\\WinPython-64bit-2.7.10.3\\python-2.7.10.amd64\\lib\\site-packages\\statsmodels\\base\\model.py:739: DeprecationWarning: The DesignInfo.builder attribute is deprecated starting in patsy v0.4.0; distinct builder objects have been eliminated and design_info.builder is now just a long-winded way of writing 'design_info' (i.e. the .builder attribute just returns self)\n",
      "  exog = dmatrix(self.model.data.orig_exog.design_info.builder,\n",
      "D:\\WinPython-64bit-2.7.10.3\\python-2.7.10.amd64\\lib\\site-packages\\statsmodels\\base\\model.py:739: DeprecationWarning: The DesignInfo.builder attribute is deprecated starting in patsy v0.4.0; distinct builder objects have been eliminated and design_info.builder is now just a long-winded way of writing 'design_info' (i.e. the .builder attribute just returns self)\n",
      "  exog = dmatrix(self.model.data.orig_exog.design_info.builder,\n"
     ]
    },
    {
     "data": {
      "text/plain": [
       "<matplotlib.legend.Legend at 0x26440cf8>"
      ]
     },
     "execution_count": 33,
     "metadata": {},
     "output_type": "execute_result"
    },
    {
     "data": {
      "image/png": "[encoded data removed]",
      "text/plain": [
       "<matplotlib.figure.Figure at 0x26443908>"
      ]
     },
     "metadata": {},
     "output_type": "display_data"
    }
   ],
   "source": [
    "plt.scatter(data_NewYorkLottery.FourthBall, data_NewYorkLottery.FifthBall, s=10, alpha=0.3)\n",
    "plt.xlabel('FourthBall')\n",
    "plt.ylabel('FifthBall')\n",
    "\n",
    "x = pd.DataFrame({'FourthBall': np.linspace(data_NewYorkLottery.FourthBall.min(),\n",
    "                                            data_NewYorkLottery.FourthBall.max(), len(data_NewYorkLottery.FourthBall)) })\n",
    "\n",
    "\n",
    "poly_1 = smf.ols(formula='FifthBall ~ 1 + FourthBall', data=data_NewYorkLottery).fit()\n",
    "plt.plot(x, poly_1.predict(x), 'b-', label='Poly n=1 $R^2$=%.2f' % poly_1.rsquared,  alpha=0.9)\n",
    "\n",
    "poly_2 = smf.ols(formula='FifthBall ~ 1 + FourthBall + I(FourthBall ** 2.0)', data=data_NewYorkLottery).fit()\n",
    "plt.plot(x, poly_2.predict(x), 'g-', label='Poly n=2 $R^2$=%.2f' % poly_2.rsquared, alpha=0.9)\n",
    "\n",
    "poly_3 = smf.ols(formula='FifthBall ~ 1 + FourthBall + I(FourthBall ** 2.0) + I(FourthBall ** 3.0)', data=data_NewYorkLottery).fit()\n",
    "plt.plot(x, poly_3.predict(x), 'r-', alpha=0.9,\n",
    "         label='Poly n=3 $R^2$=%.2f' % poly_3.rsquared)\n",
    "\n",
    "plt.legend()"
   ]
  },
  {
   "cell_type": "markdown",
   "metadata": {},
   "source": [
    "####  OK we get the last \"4to5 R^2\". Now we can coculate the product of the 4 different R squared (\"1to2 R^2\", \"2to3 R^2\", \"3to4 R^2\" and \"4to5 R^2\"), and if the result is bigger than 1/575757 (5/39 * 4/38 * 3/37 * 2/36 * 1/35), people can coculate the number one by one in the four polynomial models and get a bigger chance to win the First Prize! If the result is smaller than 1/575757, they can wait for the next chance because the number and the models are dynamic. If people likes coculating the models, they always have chances!"
   ]
  },
  {
   "cell_type": "markdown",
   "metadata": {},
   "source": [
    "# Just for fun. Thank you! :)"
   ]
  }
 ],
 "metadata": {
  "kernelspec": {
   "display_name": "Python 2",
   "language": "python",
   "name": "python2"
  },
  "language_info": {
   "codemirror_mode": {
    "name": "ipython",
    "version": 2
   },
   "file_extension": ".py",
   "mimetype": "text/x-python",
   "name": "python",
   "nbconvert_exporter": "python",
   "pygments_lexer": "ipython2",
   "version": "2.7.10"
  }
 },
 "nbformat": 4,
 "nbformat_minor": 0
}
